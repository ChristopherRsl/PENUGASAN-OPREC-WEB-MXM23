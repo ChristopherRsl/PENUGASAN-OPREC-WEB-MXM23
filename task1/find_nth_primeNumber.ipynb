{
 "cells": [
  {
   "cell_type": "code",
   "execution_count": 53,
   "id": "0e4287e6",
   "metadata": {},
   "outputs": [],
   "source": [
    "def is_prime(n):\n",
    "    if n < 2:\n",
    "        return False\n",
    "    for i in range(2, int(n ** 0.5)+1):\n",
    "        if n % i == 0:\n",
    "            return False\n",
    "    return True\n",
    "\n",
    "def nth_prime(n):\n",
    "    if n == 1:\n",
    "        return 2\n",
    "    count = 1\n",
    "    num = 3\n",
    "    while True:\n",
    "        if is_prime(num):\n",
    "            count += 1\n",
    "            if count == n:\n",
    "                return num\n",
    "        num += 2"
   ]
  },
  {
   "cell_type": "code",
   "execution_count": 54,
   "id": "3f56b378",
   "metadata": {},
   "outputs": [
    {
     "data": {
      "text/plain": [
       "227387"
      ]
     },
     "execution_count": 54,
     "metadata": {},
     "output_type": "execute_result"
    }
   ],
   "source": [
    "nth_prime(20210)"
   ]
  },
  {
   "cell_type": "code",
   "execution_count": null,
   "id": "9b348119",
   "metadata": {},
   "outputs": [],
   "source": []
  }
 ],
 "metadata": {
  "kernelspec": {
   "display_name": "Python 3 (ipykernel)",
   "language": "python",
   "name": "python3"
  },
  "language_info": {
   "codemirror_mode": {
    "name": "ipython",
    "version": 3
   },
   "file_extension": ".py",
   "mimetype": "text/x-python",
   "name": "python",
   "nbconvert_exporter": "python",
   "pygments_lexer": "ipython3",
   "version": "3.9.12"
  }
 },
 "nbformat": 4,
 "nbformat_minor": 5
}
